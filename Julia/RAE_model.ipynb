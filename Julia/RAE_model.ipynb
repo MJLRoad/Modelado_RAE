{
 "cells": [
  {
   "cell_type": "markdown",
   "metadata": {},
   "source": [
    "# Modelo de Intercambio Aleatorio de Activos (RAE)"
   ]
  },
  {
   "cell_type": "markdown",
   "metadata": {},
   "source": [
    "## Sistema económico cerrado con conservación de dinero\n",
    "\n",
    "El modelo utilizado es el de [Dragulescu & Yakovenko (2000)](https://doi.org/10.1007/s100510070114)"
   ]
  },
  {
   "cell_type": "markdown",
   "metadata": {},
   "source": [
    "### Descripción del modelo"
   ]
  },
  {
   "cell_type": "markdown",
   "metadata": {},
   "source": [
    "Los agentes económicos interaccionan por pares mediante transacciones monetarias. \n",
    "\n",
    "Solo se puede dar o recibir dinero en las transacciones.\n",
    "\n",
    "Los agentes perdedores se etiquetan con el indice $i$ mientras que los ganadores con el indice $j$.\n",
    "\n",
    "Sean $m$ y $m'$ la cantidad de dinero que posee un agente, antes y después de la transacción la cual se da según:\n",
    "\n",
    "$$ m_i \\rightarrow m'_i = m_i - \\Delta m$$\n",
    "$$ m_j \\rightarrow m'_j = m_j + \\Delta m$$\n",
    "\n",
    "donde $\\Delta m$ es la cantidad de dinero que el agente perdedor le transfirió al agente ganador después de la transacción.\n"
   ]
  },
  {
   "cell_type": "markdown",
   "metadata": {},
   "source": [
    "Algunos supuestos:\n",
    "- El dinero se conserva, global y localmente, $m_i + m_j = m'_i + m'_j $.\n",
    "- El balance de los ganadores no puede ser negativo, $m_j  \\ge 0 \\ \\forall j $.\n",
    "- Una transacción se da solamente cuando el agente \"perdedor\" tiene suficiente dinero para pagar, $m_i  \\ge \\Delta m$.\n",
    "- No hay crédito ni deuda.\n"
   ]
  },
  {
   "cell_type": "markdown",
   "metadata": {},
   "source": [
    "La mecánica estadística predice que el sistema económico alcanzara la distribución estacionaria de Boltzmann-Gibbs,\n",
    "\n",
    "$$ P(m) = \\frac{1}{T} e^{-m/T} $$\n",
    "\n",
    "donde \n",
    "\n",
    "$$ T = \\langle m \\rangle = \\frac{M}{N} $$\n",
    "\n",
    "es la _\"Temperatura del dinero\"_, y es igual a la cantidad promedio de dinero. $M$ es la cantidad total de dinero en el sistema, y $N$ es el numero total de agentes en el sistema. \n"
   ]
  },
  {
   "cell_type": "markdown",
   "metadata": {},
   "source": [
    "## Cómo se realizan las simulaciones"
   ]
  },
  {
   "cell_type": "markdown",
   "metadata": {},
   "source": [
    "Las simulaciones se realizan en el siguiente orden:\n",
    "\n",
    "- Inicialmente todos los agentes tienen la misma cantidad de dinero.\n",
    "- Se elige un par $(i, j)$ de agentes al azar, y e realiza la transacción, es decir, se transfiere la cantidad $\\Delta m$.\n",
    "- Se repite el paso anterior varias veces.\n",
    "\n"
   ]
  },
  {
   "cell_type": "markdown",
   "metadata": {},
   "source": [
    "En este trabajo se realizan las simulaciones con cada una de las siguientes reglas de intercambio:\n",
    "\n",
    "- **Regla 1**: Intercambio de una pequeña cantidad constante de dinero, $\\Delta m = 1$.\n",
    "- **Regla 2**: Intercambio de una fracción aleatoria $0 \\le \\nu \\le 1$ del dinero promedio del par, $\\Delta m = \\nu \\left( m_i + m_j \\right)/2$\n",
    "- **Regla 3**: Intercambio de una fracción aleatoria $0 \\le \\nu \\le 1$ del dinero promedio del sistema,  $\\Delta m = \\nu T$\n",
    "\n",
    "Observese que estas reglas tienen simetría de inversión temporal, ya que son invariantes ante una permutación de los índices $i$ y $j$."
   ]
  },
  {
   "cell_type": "markdown",
   "metadata": {},
   "source": [
    "### Paquetes a utilizar "
   ]
  },
  {
   "cell_type": "code",
   "execution_count": null,
   "metadata": {},
   "outputs": [],
   "source": [
    "using Random, Distributions, CairoMakie, LaTeXStrings"
   ]
  },
  {
   "cell_type": "markdown",
   "metadata": {},
   "source": [
    "### Condiciones iniciales\n",
    "\n",
    "Los parámetros para las simulaciones son: $N = 5 \\times 10^{5}$ y $M = 5 \\times 10^{6}$. Por lo tanto, al principio de las simulaciones, los agentes contarán con la misma cantidad de dinero $\\left\\langle m \\right\\rangle = \\frac{M}{N} = 10$."
   ]
  },
  {
   "cell_type": "code",
   "execution_count": 59,
   "metadata": {},
   "outputs": [
    {
     "data": {
      "text/plain": [
       "10.0"
      ]
     },
     "metadata": {},
     "output_type": "display_data"
    }
   ],
   "source": [
    "N_exp = 5\n",
    "N = 5 * 10^N_exp     \n",
    "\n",
    "M_exp = 6\n",
    "M = 5 * 10^M_exp\n",
    "\n",
    "T = M/N "
   ]
  },
  {
   "cell_type": "markdown",
   "metadata": {},
   "source": [
    "#### Reglas de intercambio "
   ]
  },
  {
   "cell_type": "code",
   "execution_count": 60,
   "metadata": {},
   "outputs": [
    {
     "data": {
      "text/plain": [
       "3-element Vector{String}:\n",
       " \"small_constant\"\n",
       " \"random_pair_average\"\n",
       " \"random_system_average\""
      ]
     },
     "metadata": {},
     "output_type": "display_data"
    }
   ],
   "source": [
    "exchange_rules = [\"small_constant\", \"random_pair_average\", \"random_system_average\"]"
   ]
  },
  {
   "cell_type": "code",
   "execution_count": 61,
   "metadata": {},
   "outputs": [],
   "source": [
    "mutable struct Agent\n",
    "  money::Float64\n",
    "end"
   ]
  },
  {
   "cell_type": "code",
   "execution_count": 62,
   "metadata": {},
   "outputs": [
    {
     "data": {
      "text/plain": [
       "Agent(3.0)"
      ]
     },
     "metadata": {},
     "output_type": "display_data"
    }
   ],
   "source": [
    "p = Agent(3)"
   ]
  },
  {
   "cell_type": "code",
   "execution_count": 63,
   "metadata": {},
   "outputs": [
    {
     "data": {
      "text/plain": [
       "3.0"
      ]
     },
     "metadata": {},
     "output_type": "display_data"
    }
   ],
   "source": [
    "p.money"
   ]
  },
  {
   "cell_type": "code",
   "execution_count": 64,
   "metadata": {},
   "outputs": [
    {
     "data": {
      "text/plain": [
       "10"
      ]
     },
     "metadata": {},
     "output_type": "display_data"
    }
   ],
   "source": [
    "# Initial conditions\n",
    "N_exp = 5\n",
    "M_exp = 6\n",
    "T_exp = 7\n",
    "million = 1_000_000\n",
    "N = Int(5 * 10^N_exp)  # numero de agentes   \n",
    "M = Int(5 * 10^M_exp) # Dinero total en el sistema \n",
    "T = Int(4 * 10^T_exp) # tiempo\n",
    "M_prom = Int(M/N) # temperatura del dinero\n"
   ]
  },
  {
   "cell_type": "code",
   "execution_count": 65,
   "metadata": {},
   "outputs": [
    {
     "data": {
      "text/plain": [
       "sim_01 (generic function with 1 method)"
      ]
     },
     "metadata": {},
     "output_type": "display_data"
    }
   ],
   "source": [
    "function sim_01(N, M, M_prom, rule, T)\n",
    " \n",
    "  Agentes = [Agent(M_prom) for i in 1:N]\n",
    "  exchange_rules = [\"small_constant\", \"random_pair_average\", \"random_system_average\"]\n",
    "  transaction_type = exchange_rules[rule]\n",
    "  system_avg = M_prom\n",
    "  for t in 1:T\n",
    "    agent_i = rand(1:N)\n",
    "    agent_j = rand(1:N)\n",
    "\n",
    "    coin_flit = rand(1:2)\n",
    "    loser_index = [agent_i, agent_j][coin_flit]\n",
    "    winner_index = [agent_i, agent_j][2-coin_flit+1]\n",
    "\n",
    "    delta_m = 0.0\n",
    "    \n",
    "    if transaction_type == \"small_constant\"\n",
    "    delta_m += 1.0\n",
    "    elseif transaction_type == \"random_pair_average\"\n",
    "    avg = (Agentes[loser_index].money + Agentes[winner_index].money) / 2\n",
    "    delta_m += rand(Uniform()) * avg\n",
    "    elseif transaction_type == \"random_system_average\"\n",
    "    delta_m += rand(Uniform()) * system_avg\n",
    "    elseif transaction_type == \"proportional\"\n",
    "    delta_m += 0.5 * lista.money\n",
    "    end\n",
    "    delta_m\n",
    "\n",
    "    if Agentes[loser_index].money >= delta_m\n",
    "      Agentes[loser_index].money -= delta_m\n",
    "      Agentes[winner_index].money += delta_m\n",
    "    end\n",
    "  end\n",
    "\n",
    "  wealth = [0.0 for i in 1:N]\n",
    "  for i in 1:N\n",
    "    wealth[i] = Agentes[i].money\n",
    "  end\n",
    "\n",
    "return wealth\n",
    "end"
   ]
  },
  {
   "cell_type": "code",
   "execution_count": 66,
   "metadata": {},
   "outputs": [
    {
     "ename": "UndefVarError",
     "evalue": "UndefVarError: `simulation` not defined in `Main`\nSuggestion: check for spelling errors or missing imports.",
     "output_type": "error",
     "traceback": [
      "UndefVarError: `simulation` not defined in `Main`\n",
      "Suggestion: check for spelling errors or missing imports.\n",
      "\n",
      "Stacktrace:\n",
      " [1] top-level scope\n",
      "   @ ~/Documents/Julia Programming Models/Modelado_RAE/Julia/jl_notebook_cell_df34fa98e69747e1a8f8a730347b8e2f_X26sZmlsZQ==.jl:1"
     ]
    }
   ],
   "source": [
    "sim = simulation(5, 6, 2, 7)"
   ]
  },
  {
   "cell_type": "code",
   "execution_count": 67,
   "metadata": {},
   "outputs": [
    {
     "data": {
      "text/plain": [
       "500000"
      ]
     },
     "metadata": {},
     "output_type": "display_data"
    }
   ],
   "source": [
    "length(sim)"
   ]
  },
  {
   "cell_type": "code",
   "execution_count": 68,
   "metadata": {},
   "outputs": [
    {
     "data": {
      "text/plain": [
       "127-element Vector{Float64}:\n",
       " 50000.0\n",
       " 45200.69195277662\n",
       " 40862.051060196114\n",
       " 36939.85965061108\n",
       " 33394.14433692148\n",
       " 30188.76862399496\n",
       " 27291.06462013689\n",
       " 24671.500099162567\n",
       " 22303.377519902904\n",
       " 20162.561935672285\n",
       "     ⋮\n",
       "     0.33699954538331506\n",
       "     0.30465225278193997\n",
       "     0.2754098526143182\n",
       "     0.2489743181755879\n",
       "     0.22507622920014703\n",
       "     0.20347202603936798\n",
       "     0.18394152740025607\n",
       "     0.166285686346844\n",
       "     0.1503245616943947"
      ]
     },
     "metadata": {},
     "output_type": "display_data"
    }
   ],
   "source": [
    "max_val_sim = maximum(sim)\n",
    "max_val_sim_int = Int(floor(max_val_sim))\n",
    "m_values = range(0, stop = max_val_sim, length=max_val_sim_int)\n",
    "P_values = length(sim) * (1 / 10) * exp.(-m_values / 10)  "
   ]
  },
  {
   "cell_type": "code",
   "execution_count": 69,
   "metadata": {},
   "outputs": [
    {
     "ename": "UndefVarError",
     "evalue": "UndefVarError: `Figure` not defined in `Main`\nSuggestion: check for spelling errors or missing imports.",
     "output_type": "error",
     "traceback": [
      "UndefVarError: `Figure` not defined in `Main`\n",
      "Suggestion: check for spelling errors or missing imports.\n",
      "\n",
      "Stacktrace:\n",
      " [1] top-level scope\n",
      "   @ ~/Documents/Julia Programming Models/Modelado_RAE/Julia/jl_notebook_cell_df34fa98e69747e1a8f8a730347b8e2f_X32sZmlsZQ==.jl:1"
     ]
    }
   ],
   "source": [
    "f = Figure(size = (800, 500))\n",
    "ax = Axis(f[1, 1],\n",
    "\ttitle = \"Distribución del dinero\",\n",
    "    xlabel = \"Cantidad de Dinero\",\n",
    "    ylabel = \"Agentes\",\n",
    "\t)\n",
    "stephist!(ax, sim, bins = max_val_sim_int, color = :black, label = \"Simulación\")\n",
    "lines!(m_values, P_values, color=:red, label = L\"P(m)=\\frac{1}{T}e^{-m/T}\")\n",
    "axislegend(position=:rt)\n",
    "f"
   ]
  },
  {
   "cell_type": "markdown",
   "metadata": {},
   "source": [
    "En las simulaciones observamos que una distribución inicial estrecha, en la que todos los agentes tienen la misma cantidad de dinero, es inestable y evoluciona con el tiempo hacia una distribución amplia y sesgada, en la que muchos agentes tienen saldos monetarios bajos y pocos agentes tienen saldos monetarios altos. Finalmente, la distribución de dinero alcanza el equilibrio estadístico en la forma exponencial (la distribución de Boltzmann-Gibbs), de acuerdo con los principios generales de la física estadística y el principio de máxima entropía. \n",
    "\n",
    "Sin embargo, si una regla para transferencias de dinero no tiene simetría de inversión temporal , se pueden obtener otras distribuciones."
   ]
  },
  {
   "cell_type": "markdown",
   "metadata": {},
   "source": [
    "## Sistema económico cerrado con conservación de dinero 2.0: se rompe la simetría de inversión temporal"
   ]
  },
  {
   "cell_type": "markdown",
   "metadata": {},
   "source": [
    "En este modelo de intercambio, la regla de transferencia es $\\Delta m = \\alpha m_i$, es decir, el intercambio es proporcional al saldo monetario del agente. \n",
    "Con esta regla se rompe la simetría de inversión temporal, por lo que el sistema puede tener una distribución estacionaria diferente a la de Boltzmann-Gibbs, o no tener ninguna distribución estacionaria.\n",
    "\n",
    "Los parámetros para las simulaciones serán: $N = 5 \\times 10^{5}$ y $M = 5 \\times 10^{6}$. Por lo tanto, al principio de las simulaciones, los agentes contarán con la misma cantidad de dinero $\\left\\langle m \\right\\rangle = \\frac{M}{N} = 10$."
   ]
  },
  {
   "cell_type": "markdown",
   "metadata": {},
   "source": [
    "Primero realizamos una simulación de intercambio aleatorio multiplicativo con $\\alpha = 1/3$"
   ]
  },
  {
   "cell_type": "code",
   "execution_count": 70,
   "metadata": {},
   "outputs": [
    {
     "data": {
      "text/plain": [
       "0.3333333333333333"
      ]
     },
     "metadata": {},
     "output_type": "display_data"
    }
   ],
   "source": [
    "# Initial conditions\n",
    "N_exp = 5\n",
    "M_exp = 6\n",
    "T_exp = 7\n",
    "million = 1_000_000\n",
    "N = Int(5 * 10^N_exp)  # numero de agentes   \n",
    "M = Int(5 * 10^M_exp) # Dinero total en el sistema \n",
    "T = Int(4 * 10^T_exp) # tiempo\n",
    "M_prom = Int(M/N) # temperatura del dinero\n",
    "α = 1/3"
   ]
  },
  {
   "cell_type": "code",
   "execution_count": 71,
   "metadata": {},
   "outputs": [
    {
     "data": {
      "text/plain": [
       "10"
      ]
     },
     "metadata": {},
     "output_type": "display_data"
    }
   ],
   "source": [
    "Int(M_prom)"
   ]
  },
  {
   "cell_type": "code",
   "execution_count": 72,
   "metadata": {},
   "outputs": [
    {
     "data": {
      "text/plain": [
       "sim_02 (generic function with 1 method)"
      ]
     },
     "metadata": {},
     "output_type": "display_data"
    }
   ],
   "source": [
    "function sim_02(N, T, M_prom, α)\n",
    "  Agentes = [Agent(M_prom) for i in 1:N]\n",
    "  \n",
    "  for t in 1:T\n",
    "    agent_i = rand(1:N)\n",
    "    agent_j = rand(1:N)\n",
    "\n",
    "    coin_flit = rand(1:2)\n",
    "    loser_index = [agent_i, agent_j][coin_flit]\n",
    "    winner_index = [agent_i, agent_j][2-coin_flit+1]\n",
    "\n",
    "    delta_m = α *  Agentes[loser_index].money\n",
    "\n",
    "    if Agentes[loser_index].money >= delta_m\n",
    "      Agentes[loser_index].money -= delta_m\n",
    "      Agentes[winner_index].money += delta_m\n",
    "    end\n",
    "  end\n",
    "\n",
    "  wealth = [0.0 for i in 1:N]\n",
    "  for i in 1:N\n",
    "    wealth[i] = Agentes[i].money\n",
    "  end\n",
    "\n",
    "return wealth\n",
    "end"
   ]
  },
  {
   "cell_type": "code",
   "execution_count": 73,
   "metadata": {},
   "outputs": [
    {
     "data": {
      "text/plain": [
       "500000-element Vector{Float64}:\n",
       " 27.068782618769536\n",
       "  1.700542700718863\n",
       "  0.9571380555264384\n",
       " 12.575613299564559\n",
       "  9.169415400420649\n",
       "  3.9386786655012287\n",
       "  3.4100976763846917\n",
       "  0.788883152292948\n",
       "  9.025445797260762\n",
       "  8.078099718716768\n",
       "  ⋮\n",
       " 21.304959588340296\n",
       " 12.785254491312193\n",
       "  9.288256706675174\n",
       " 12.98946678340528\n",
       "  1.5467838501156912\n",
       "  3.290359137405299\n",
       "  8.855647827298178\n",
       "  3.1096940757375853\n",
       " 10.928533985288402"
      ]
     },
     "metadata": {},
     "output_type": "display_data"
    }
   ],
   "source": [
    "sim = sim_02(N, T, M_prom, α)"
   ]
  },
  {
   "cell_type": "code",
   "execution_count": 74,
   "metadata": {},
   "outputs": [
    {
     "data": {
      "text/plain": [
       "74-element Vector{Float64}:\n",
       " 50000.0\n",
       " 45177.12181770544\n",
       " 40819.44671463594\n",
       " 36882.10233516887\n",
       " 33324.54460178005\n",
       " 30110.14021988351\n",
       " 27205.789453237383\n",
       " 24581.585285515022\n",
       " 22210.505458320556\n",
       " 20068.134214467187\n",
       "     ⋮\n",
       "    68.48982582197304\n",
       "    61.88346408865407\n",
       "    55.9143359126945\n",
       "    50.520975297678035\n",
       "    45.64784510744976\n",
       "    41.24476518270015\n",
       "    37.26639562003001\n",
       "    33.671769892658006\n",
       "    30.42387300516715"
      ]
     },
     "metadata": {},
     "output_type": "display_data"
    }
   ],
   "source": [
    "max_val_sim = maximum(sim)\n",
    "max_val_sim_int = Int(floor(max_val_sim))\n",
    "m_values = range(0, stop = max_val_sim, length=max_val_sim_int)\n",
    "P_values = length(sim) * (1 / M_prom) * exp.(-m_values / M_prom)  "
   ]
  },
  {
   "cell_type": "code",
   "execution_count": 75,
   "metadata": {},
   "outputs": [
    {
     "ename": "UndefVarError",
     "evalue": "UndefVarError: `Figure` not defined in `Main`\nSuggestion: check for spelling errors or missing imports.",
     "output_type": "error",
     "traceback": [
      "UndefVarError: `Figure` not defined in `Main`\n",
      "Suggestion: check for spelling errors or missing imports.\n",
      "\n",
      "Stacktrace:\n",
      " [1] top-level scope\n",
      "   @ ~/Documents/Julia Programming Models/Modelado_RAE/Julia/jl_notebook_cell_df34fa98e69747e1a8f8a730347b8e2f_X45sZmlsZQ==.jl:1"
     ]
    }
   ],
   "source": [
    "f = Figure(size = (800, 500))\n",
    "ax = Axis(f[1, 1],\n",
    "\ttitle = \"Money Distribution with $(N/million) million agents, $(M/million ) million money, average money $M_prom and $(T/million) million step time\",\n",
    "    xlabel = L\"Money $m$\",\n",
    "    ylabel = L\"\\text{Distribution of Agents}\",\n",
    "\t)\n",
    "stephist!(ax, sim, bins = max_val_sim_int, color = :black, label = L\"Simulation with $\\alpha = 1/3$\")\n",
    "lines!(m_values, P_values, color=:red, label = L\"B-G Distribution $P(m)=\\frac{1}{T}e^{-m/T}$\")\n",
    "axislegend(position=:rt)\n",
    "f"
   ]
  },
  {
   "cell_type": "markdown",
   "metadata": {},
   "source": [
    "Podemos observar que la distribución estacionaria tiene una forma diferente a la distribución B-G: todavía tiene un extremo exponencial en el extremo superior, pero cae a cero en el extremo inferior. \n",
    "\n",
    "Esto último se cumple para simulaciones con $\\alpha < 1/2$. \n",
    "\n",
    "Por otra parte, si realizamos una simulación de intercambio aleatorio multiplicativo con $\\alpha = 1/2$, tenemos que"
   ]
  },
  {
   "cell_type": "code",
   "execution_count": 76,
   "metadata": {},
   "outputs": [
    {
     "data": {
      "text/plain": [
       "500000-element Vector{Float64}:\n",
       " 10.446043358332297\n",
       "  3.097629646506975\n",
       " 10.428477761634609\n",
       "  0.5963769088259775\n",
       " 11.885839688913894\n",
       "  7.24455504055737\n",
       "  0.11857661454049383\n",
       " 16.833849294128715\n",
       "  1.988509861476634\n",
       " 27.64288529341392\n",
       "  ⋮\n",
       "  4.800216652810429\n",
       "  2.5382751592947925\n",
       "  1.1798103087448202\n",
       "  9.355600796028932\n",
       "  9.53677338771006\n",
       "  6.6045399385683945\n",
       " 15.933669258898963\n",
       "  6.436329048834903\n",
       " 45.31475564751668"
      ]
     },
     "metadata": {},
     "output_type": "display_data"
    }
   ],
   "source": [
    "α=1/2\n",
    "sim = sim_02(N, T, M_prom, α)"
   ]
  },
  {
   "cell_type": "code",
   "execution_count": 77,
   "metadata": {},
   "outputs": [
    {
     "data": {
      "text/plain": [
       "173-element Vector{Float64}:\n",
       " 50000.0\n",
       " 45201.49954622435\n",
       " 40863.51122454642\n",
       " 36941.83968146938\n",
       " 33396.53099197262\n",
       " 30191.465609582356\n",
       " 27293.990381027706\n",
       " 24674.585876453515\n",
       " 22306.56564595575\n",
       " 20165.804338469854\n",
       "     ⋮\n",
       "     0.0032580330546711565\n",
       "     0.0029453595928460507\n",
       "     0.0026626934059899624\n",
       "     0.0024071546956518025\n",
       "     0.0021761400376639323\n",
       "     0.0019672958584997353\n",
       "     0.0017784944571053005\n",
       "     0.0016078123279161531\n",
       "     0.0014535105642143216"
      ]
     },
     "metadata": {},
     "output_type": "display_data"
    }
   ],
   "source": [
    "max_val_sim = maximum(sim)\n",
    "max_val_sim_int = Int(floor(max_val_sim))\n",
    "m_values = range(0, stop = max_val_sim, length=max_val_sim_int)\n",
    "P_values = length(sim) * (1 / M_prom) * exp.(-m_values / M_prom) "
   ]
  },
  {
   "cell_type": "code",
   "execution_count": 78,
   "metadata": {},
   "outputs": [
    {
     "ename": "UndefVarError",
     "evalue": "UndefVarError: `Figure` not defined in `Main`\nSuggestion: check for spelling errors or missing imports.",
     "output_type": "error",
     "traceback": [
      "UndefVarError: `Figure` not defined in `Main`\n",
      "Suggestion: check for spelling errors or missing imports.\n",
      "\n",
      "Stacktrace:\n",
      " [1] top-level scope\n",
      "   @ ~/Documents/Julia Programming Models/Modelado_RAE/Julia/jl_notebook_cell_df34fa98e69747e1a8f8a730347b8e2f_X52sZmlsZQ==.jl:1"
     ]
    }
   ],
   "source": [
    "f = Figure(size = (800, 500))\n",
    "ax = Axis(f[1, 1],\n",
    "\ttitle = \"Money Distribution with $(N/million) million agents, $(M/million ) million money, average money $M_prom and $(T/million) million step time\",\n",
    "    xlabel = L\"Money $m$\",\n",
    "    ylabel = L\"\\text{Distribution of Agents}\",\n",
    "\t)\n",
    "stephist!(ax, sim, bins = max_val_sim_int, color = :black, label = L\"Simulation with $\\alpha = 1/2$\")\n",
    "lines!(m_values, P_values, color=:red, label = L\"B-G Distribution $P(m)=\\frac{1}{T}e^{-m/T}$\")\n",
    "axislegend(position=:rt)\n",
    "f"
   ]
  },
  {
   "cell_type": "markdown",
   "metadata": {},
   "source": [
    "### Modelo de intercambio aleatorio con ahorro: Simulaciones"
   ]
  },
  {
   "cell_type": "markdown",
   "metadata": {},
   "source": [
    "Otro ejemplo de tipo similar al anterior es uno donde los agentes guardan una fracción $\\lambda$ de su dinero e intercambian una fracción aleatoria $\\epsilon$ de su dinero total restante,\n",
    "\n",
    "$$\n",
    "m_i \\longrightarrow m'_i = \\lambda m_{i} + \\epsilon \\left( 1-\\lambda \\right)\\left( m_i + m_j \\right) \\\\\n",
    "m_j \\longrightarrow m'_j = \\lambda m_{j} + \\left( 1-\\epsilon \\right) \\left( 1-\\lambda \\right)\\left( m_i + m_j \\right)\n",
    "$$\n",
    "\n",
    "de donde se deduce que la regla de intercambio es\n",
    "\n",
    "$$\n",
    "\\Delta m = m_i - m'_i = \\left( 1-\\lambda \\right)\\left[ m_i - \\epsilon \\left( m_i+m_j \\right) \\right]\n",
    "$$\n",
    "\n",
    "En esta regla de intercambio se rompe la simetría de inversión temporal, por lo que la distribución estacionaria puede ser diferente a la distribución B-G."
   ]
  },
  {
   "cell_type": "markdown",
   "metadata": {},
   "source": [
    "Los parámetros para una simulación serán: $\\lambda = 1/4$, $N = 5 \\times 10^{5}$ y $M = 5 \\times 10^{6}$. \n",
    "\n",
    "Por lo tanto, al principio de las simulaciones, los agentes contarán con la misma cantidad de dinero $\\left\\langle m \\right\\rangle = \\frac{M}{N} = 10$."
   ]
  },
  {
   "cell_type": "code",
   "execution_count": 79,
   "metadata": {},
   "outputs": [
    {
     "data": {
      "text/plain": [
       "0.25"
      ]
     },
     "metadata": {},
     "output_type": "display_data"
    }
   ],
   "source": [
    "# Initial conditions\n",
    "N_exp = 5\n",
    "M_exp = 6\n",
    "T_exp = 7\n",
    "million = 1_000_000\n",
    "N = Int(5 * 10^N_exp)  # numero de agentes   \n",
    "M = Int(5 * 10^M_exp) # Dinero total en el sistema \n",
    "T = Int(4 * 10^T_exp) # tiempo\n",
    "M_prom = Int(M/N) # temperatura del dinero\n",
    "λ = 1/4"
   ]
  },
  {
   "cell_type": "code",
   "execution_count": 80,
   "metadata": {},
   "outputs": [
    {
     "data": {
      "text/plain": [
       "sim_03 (generic function with 1 method)"
      ]
     },
     "metadata": {},
     "output_type": "display_data"
    }
   ],
   "source": [
    "function sim_03(N, T, M_prom, λ)\n",
    "  Agentes = [Agent(M_prom) for i in 1:N]\n",
    "  \n",
    "  for t in 1:T\n",
    "    ϵ = rand(Uniform(0.0, 1.0))\n",
    "    agent_i = rand(1:N)\n",
    "    agent_j = rand(1:N)\n",
    "\n",
    "    coin_flit = rand(1:2)\n",
    "    loser_index = [agent_i, agent_j][coin_flit]\n",
    "    winner_index = [agent_i, agent_j][2-coin_flit+1]\n",
    "\n",
    "    delta_m = (1 - λ) *  ( Agentes[loser_index].money - ϵ * (Agentes[loser_index].money + Agentes[winner_index].money))\n",
    "\n",
    "    if Agentes[loser_index].money >= delta_m\n",
    "      Agentes[loser_index].money -= delta_m\n",
    "      Agentes[winner_index].money += delta_m\n",
    "    end\n",
    "  end\n",
    "\n",
    "  wealth = [0.0 for i in 1:N]\n",
    "  for i in 1:N\n",
    "    wealth[i] = Agentes[i].money\n",
    "  end\n",
    "\n",
    "return wealth\n",
    "end"
   ]
  },
  {
   "cell_type": "code",
   "execution_count": 81,
   "metadata": {},
   "outputs": [
    {
     "ename": "UndefVarError",
     "evalue": "UndefVarError: `Uniform` not defined in `Main`\nSuggestion: check for spelling errors or missing imports.",
     "output_type": "error",
     "traceback": [
      "UndefVarError: `Uniform` not defined in `Main`\n",
      "Suggestion: check for spelling errors or missing imports.\n",
      "\n",
      "Stacktrace:\n",
      " [1] sim_03(N::Int64, T::Int64, M_prom::Int64, λ::Float64)\n",
      "   @ Main ~/Documents/Julia Programming Models/Modelado_RAE/Julia/jl_notebook_cell_df34fa98e69747e1a8f8a730347b8e2f_X60sZmlsZQ==.jl:5\n",
      " [2] top-level scope\n",
      "   @ ~/Documents/Julia Programming Models/Modelado_RAE/Julia/jl_notebook_cell_df34fa98e69747e1a8f8a730347b8e2f_X61sZmlsZQ==.jl:1"
     ]
    }
   ],
   "source": [
    "sim = sim_03(N, T, M_prom, λ)"
   ]
  },
  {
   "cell_type": "code",
   "execution_count": 82,
   "metadata": {},
   "outputs": [
    {
     "ename": "UndefVarError",
     "evalue": "UndefVarError: `Figure` not defined in `Main`\nSuggestion: check for spelling errors or missing imports.",
     "output_type": "error",
     "traceback": [
      "UndefVarError: `Figure` not defined in `Main`\n",
      "Suggestion: check for spelling errors or missing imports.\n",
      "\n",
      "Stacktrace:\n",
      " [1] top-level scope\n",
      "   @ ~/Documents/Julia Programming Models/Modelado_RAE/Julia/jl_notebook_cell_df34fa98e69747e1a8f8a730347b8e2f_X62sZmlsZQ==.jl:8"
     ]
    }
   ],
   "source": [
    "# parameters B-G distribution\n",
    "max_val_sim = maximum(sim)\n",
    "max_val_sim_int = Int(floor(max_val_sim))\n",
    "m_values = range(0, stop = max_val_sim, length=max_val_sim_int)\n",
    "P_values = length(sim) * (1 / M_prom) * exp.(-m_values / M_prom) \n",
    "\n",
    "# Graph\n",
    "f = Figure(size = (800, 500))\n",
    "ax = Axis(f[1, 1],\n",
    "\ttitle = \"Money Distribution with $(N/million) million agents, $(M/million ) million money, average money $M_prom and $(T/million) million step time\",\n",
    "    xlabel = L\"Money $m$\",\n",
    "    ylabel = L\"\\text{Distribution of Agents}\",\n",
    "\t)\n",
    "stephist!(ax, sim, bins = max_val_sim_int, color = :black, label = L\"Simulation with $\\lambda = 1/4$\")\n",
    "lines!(m_values, P_values, color=:red, label = L\"B-G Distribution $P(m)=\\frac{1}{T}e^{-m/T}$\")\n",
    "axislegend(position=:rt)\n",
    "f"
   ]
  },
  {
   "cell_type": "code",
   "execution_count": 83,
   "metadata": {},
   "outputs": [
    {
     "ename": "UndefVarError",
     "evalue": "UndefVarError: `Figure` not defined in `Main`\nSuggestion: check for spelling errors or missing imports.",
     "output_type": "error",
     "traceback": [
      "UndefVarError: `Figure` not defined in `Main`\n",
      "Suggestion: check for spelling errors or missing imports.\n",
      "\n",
      "Stacktrace:\n",
      " [1] top-level scope\n",
      "   @ ~/Documents/Julia Programming Models/Modelado_RAE/Julia/jl_notebook_cell_df34fa98e69747e1a8f8a730347b8e2f_X63sZmlsZQ==.jl:1"
     ]
    }
   ],
   "source": [
    "f = Figure(size = (800, 500))\n",
    "ax = Axis(f[1, 1],\n",
    "\ttitle = \"Money Distribution with $(N/million) million agents, $(M/million ) million money, average money $M_prom and $(T/million) million step time\",\n",
    "    xlabel = L\"Money $m$\",\n",
    "    ylabel = L\"\\text{Distribution of Agents}\",\n",
    "    yscale = log\n",
    "\t)\n",
    "stephist!(ax, sim, bins = max_val_sim_int, color = :black, label = L\"Simulation with $\\text{tax rate} = 0.4$\")\n",
    "lines!(m_values, P_values, color=:red, label = L\"B-G Distribution $P(m)=\\frac{1}{T}e^{-m/T}$\")\n",
    "axislegend(position=:rt)\n",
    "f"
   ]
  },
  {
   "cell_type": "markdown",
   "metadata": {},
   "source": [
    "Se puede observar que la forma de la distribución estacionaria tiene una forma cualitativamente similar a la que tiene la distribución estacionaria del modelo de intercambio multiplicativo."
   ]
  },
  {
   "cell_type": "markdown",
   "metadata": {},
   "source": [
    "### Modelo de intercambio aleatorio con impuestos y subsidios."
   ]
  },
  {
   "cell_type": "markdown",
   "metadata": {},
   "source": [
    "Otro ejemplo interesante cuya distribución no es de B-G ocurre en un modelo con impuestos y subsidios. \n",
    "\n",
    "Supongamos que hay un agente especial (\"gobierno\"), el cual recolecta una fracción $f$ (\"impuesto\") de toda transacción en el sistema, de tal manera que cada agente recibe un subsidio $\\delta m$ con una frecuencia $1 / \\tau_s$.\n",
    "\n",
    "A continuación se muestran los resultados de una simulación. \n",
    "\n",
    "Los parámetros son: $f = 0.40$, $\\tau_s = 4000$, $N = 5 \\times 10^{4}$ y $M = 5 \\times 10^{5}$. \n",
    "\n",
    "Por lo tanto, al principio de las simulaciones, los agentes cuentan con la misma cantidad de dinero $\\left\\langle m \\right\\rangle = \\frac{M}{N} = 10$."
   ]
  },
  {
   "cell_type": "code",
   "execution_count": 84,
   "metadata": {},
   "outputs": [
    {
     "data": {
      "text/plain": [
       "4000"
      ]
     },
     "metadata": {},
     "output_type": "display_data"
    }
   ],
   "source": [
    "# Initial conditions\n",
    "N_exp = 4\n",
    "M_exp = 5\n",
    "T_exp = 6\n",
    "million = 1_000_000\n",
    "N = Int(5 * 10^N_exp)  # numero de agentes   \n",
    "M = Int(5 * 10^M_exp) # Dinero total en el sistema \n",
    "T = Int(4 * 10^T_exp) # tiempo\n",
    "M_prom = Int(M/N) # temperatura del dinero\n",
    "tax_rate = 0.4 #f \n",
    "τₛ = 4000"
   ]
  },
  {
   "cell_type": "code",
   "execution_count": 85,
   "metadata": {},
   "outputs": [],
   "source": [
    "mutable struct State\n",
    "  money::Float64\n",
    "  tax_rate::Float64\n",
    "end"
   ]
  },
  {
   "cell_type": "code",
   "execution_count": 86,
   "metadata": {},
   "outputs": [
    {
     "data": {
      "text/plain": [
       "collect_taxes (generic function with 1 method)"
      ]
     },
     "metadata": {},
     "output_type": "display_data"
    }
   ],
   "source": [
    "function collect_taxes(gob::State, from_amount)\n",
    "  gob.money += (gob.tax_rate * from_amount)\n",
    "end"
   ]
  },
  {
   "cell_type": "code",
   "execution_count": 87,
   "metadata": {},
   "outputs": [
    {
     "data": {
      "text/plain": [
       "subsidize (generic function with 1 method)"
      ]
     },
     "metadata": {},
     "output_type": "display_data"
    }
   ],
   "source": [
    "function subsidize(gob::State, to_agents)\n",
    "  dm = gob.money / length(to_agents)\n",
    "  for i in length(to_agents)\n",
    "    gob.money -= dm\n",
    "    to_agents[i].money += dm\n",
    "  end\n",
    "end"
   ]
  },
  {
   "cell_type": "code",
   "execution_count": 88,
   "metadata": {},
   "outputs": [
    {
     "data": {
      "text/plain": [
       "0.4"
      ]
     },
     "metadata": {},
     "output_type": "display_data"
    }
   ],
   "source": [
    "government = State(0.0, tax_rate)\n",
    "government.tax_rate"
   ]
  },
  {
   "cell_type": "code",
   "execution_count": 89,
   "metadata": {},
   "outputs": [
    {
     "data": {
      "text/plain": [
       "sim_04 (generic function with 1 method)"
      ]
     },
     "metadata": {},
     "output_type": "display_data"
    }
   ],
   "source": [
    "function sim_04(N, M, M_prom, rule, T, tax_rate, τₛ)\n",
    "\t\n",
    "  Agentes = [Agent(M_prom) for i in 1:N]\n",
    "  government = State(0.0, tax_rate)\n",
    "\n",
    "  exchange_rules = [\"small_constant\", \"random_pair_average\", \"random_system_average\"]\n",
    "  transaction_type = exchange_rules[rule]\n",
    "  system_avg = M_prom\n",
    "  for t in 1:T\n",
    "    agent_i = rand(1:N)\n",
    "    agent_j = rand(1:N)\n",
    "\n",
    "    coin_flit = rand(1:2)\n",
    "    loser_index = [agent_i, agent_j][coin_flit]\n",
    "    winner_index = [agent_i, agent_j][2-coin_flit+1]\n",
    "\n",
    "    delta_m = 0.0\n",
    "    \n",
    "    if transaction_type == \"small_constant\"\n",
    "    delta_m += 1.0\n",
    "    elseif transaction_type == \"random_pair_average\"\n",
    "    avg = (Agentes[loser_index].money + Agentes[winner_index].money) / 2\n",
    "    delta_m += rand(Uniform()) * avg\n",
    "    elseif transaction_type == \"random_system_average\"\n",
    "    delta_m += rand(Uniform()) * system_avg\n",
    "    elseif transaction_type == \"proportional\"\n",
    "    delta_m += 0.5 * lista.money\n",
    "    end\n",
    "    delta_m\n",
    "\n",
    "    if Agentes[loser_index].money >= delta_m\n",
    "      Agentes[loser_index].money -= delta_m\n",
    "      government.money += (government.tax_rate * delta_m)\n",
    "      delta_m *= (1- government.tax_rate)\n",
    "      Agentes[winner_index].money += delta_m\n",
    "    end\n",
    "\n",
    "    if t % τₛ == 0\n",
    "      dm = government.money / N\n",
    "      for i in 1:N\n",
    "      government.money -= dm\n",
    "      Agentes[i].money += dm \n",
    "      end\n",
    "    end\n",
    "  end\n",
    "\n",
    "  wealth = [0.0 for i in 1:N]\n",
    "  for i in 1:N\n",
    "    wealth[i] = Agentes[i].money\n",
    "  end\n",
    "\n",
    "return wealth\n",
    "end"
   ]
  },
  {
   "cell_type": "code",
   "execution_count": 90,
   "metadata": {},
   "outputs": [
    {
     "ename": "UndefVarError",
     "evalue": "UndefVarError: `Uniform` not defined in `Main`\nSuggestion: check for spelling errors or missing imports.",
     "output_type": "error",
     "traceback": [
      "UndefVarError: `Uniform` not defined in `Main`\n",
      "Suggestion: check for spelling errors or missing imports.\n",
      "\n",
      "Stacktrace:\n",
      " [1] sim_04(N::Int64, M::Int64, M_prom::Int64, rule::Int64, T::Int64, tax_rate::Float64, τₛ::Int64)\n",
      "   @ Main ~/Documents/Julia Programming Models/Modelado_RAE/Julia/jl_notebook_cell_df34fa98e69747e1a8f8a730347b8e2f_Y105sZmlsZQ==.jl:25\n",
      " [2] top-level scope\n",
      "   @ ~/Documents/Julia Programming Models/Modelado_RAE/Julia/jl_notebook_cell_df34fa98e69747e1a8f8a730347b8e2f_Y106sZmlsZQ==.jl:1"
     ]
    }
   ],
   "source": [
    "sim = sim_04(N, M, M_prom, 3, T, tax_rate, τₛ)"
   ]
  },
  {
   "cell_type": "code",
   "execution_count": 91,
   "metadata": {},
   "outputs": [
    {
     "ename": "UndefVarError",
     "evalue": "UndefVarError: `Figure` not defined in `Main`\nSuggestion: check for spelling errors or missing imports.",
     "output_type": "error",
     "traceback": [
      "UndefVarError: `Figure` not defined in `Main`\n",
      "Suggestion: check for spelling errors or missing imports.\n",
      "\n",
      "Stacktrace:\n",
      " [1] top-level scope\n",
      "   @ ~/Documents/Julia Programming Models/Modelado_RAE/Julia/jl_notebook_cell_df34fa98e69747e1a8f8a730347b8e2f_Y110sZmlsZQ==.jl:8"
     ]
    }
   ],
   "source": [
    "# parameters B-G distribution\n",
    "max_val_sim = maximum(sim)\n",
    "max_val_sim_int = Int(floor(max_val_sim))\n",
    "m_values = range(0, stop = max_val_sim, length=max_val_sim_int)\n",
    "P_values = length(sim) * (1 / M_prom) * exp.(-m_values / M_prom) \n",
    "\n",
    "# Graph\n",
    "f = Figure(size = (800, 500))\n",
    "ax = Axis(f[1, 1],\n",
    "\ttitle = \"Money Distribution with $(N/million) million agents, $(M/million ) million money, average money $M_prom and $(T/million) million step time\",\n",
    "    xlabel = L\"Money $m$\",\n",
    "    ylabel = L\"\\text{Distribution of Agents}\",\n",
    "    #yscale = log\n",
    "\t)\n",
    "stephist!(ax, sim, bins = max_val_sim_int, color = :black, label = L\"Simulation with $\\text{tax rate} = 0.4$\")\n",
    "lines!(m_values, P_values, color=:red, label = L\"B-G Distribution $P(m)=\\frac{1}{T}e^{-m/T}$\")\n",
    "axislegend(position=:rt)\n",
    "f"
   ]
  },
  {
   "cell_type": "code",
   "execution_count": 92,
   "metadata": {},
   "outputs": [
    {
     "ename": "UndefVarError",
     "evalue": "UndefVarError: `Figure` not defined in `Main`\nSuggestion: check for spelling errors or missing imports.",
     "output_type": "error",
     "traceback": [
      "UndefVarError: `Figure` not defined in `Main`\n",
      "Suggestion: check for spelling errors or missing imports.\n",
      "\n",
      "Stacktrace:\n",
      " [1] top-level scope\n",
      "   @ ~/Documents/Julia Programming Models/Modelado_RAE/Julia/jl_notebook_cell_df34fa98e69747e1a8f8a730347b8e2f_Y111sZmlsZQ==.jl:1"
     ]
    }
   ],
   "source": [
    "f = Figure(size = (800, 500))\n",
    "ax = Axis(f[1, 1],\n",
    "\ttitle = \"Money Distribution with $(N/million) million agents, $(M/million ) million money, average money $M_prom and $(T/million) million step time\",\n",
    "    xlabel = L\"Money $m$\",\n",
    "    ylabel = L\"\\text{Distribution of Agents}\",\n",
    "    yscale = log\n",
    "\t)\n",
    "stephist!(ax, sim, bins = max_val_sim_int, color = :black, label = L\"Simulation with $\\text{tax rate} = 0.4$\")\n",
    "lines!(m_values, P_values, color=:red, label = L\"B-G Distribution $P(m)=\\frac{1}{T}e^{-m/T}$\")\n",
    "axislegend(position=:rt)\n",
    "f"
   ]
  },
  {
   "cell_type": "markdown",
   "metadata": {},
   "source": [
    "Se puede observar que la distribución estacionaria es una distribución B-G desplazada. La población con bajos niveles económicos se ve disminuida porque el gobierno, actuando como una fuerza externa, “expulsa” a esa población y empuja al sistema fuera del equilibrio termodinámico. \n",
    "\n",
    "Estos ejemplos muestran que la distribución de Boltzmann-Gibbs no es completamente universal, es decir, no se cumple para cualquier modelo de intercambio que conserve dinero. Sin embargo, es universal en un sentido limitado: para una amplia clase de modelos que tienen simetría de inversión temporal, la distribución estacionaria es exponencial y no depende de los detalles de un modelo. \n",
    "\n",
    "Por el contrario, cuando se rompe la simetría de inversión temporal, la distribución puede depender de los detalles del modelo. La diferencia entre estas dos clases de modelos puede ser bastante sutil.\n",
    "\n",
    "A diferencia de lo que ocurre en la física, en economía no existe un requisito fundamental de que las interacciones tengan simetría de inversión temporal. Sin embargo, en ausencia de un conocimiento detallado de la dinámica microscópica real del intercambio económico, la distribución semiuniversal de Boltzmann-Gibbs parece ser un punto de partida natural."
   ]
  },
  {
   "cell_type": "markdown",
   "metadata": {},
   "source": [
    "## Modelos con deuda"
   ]
  },
  {
   "cell_type": "markdown",
   "metadata": {},
   "source": [
    "Ahora analicemos qué sucede si se permite a los agentes endeudarse. La deuda puede considerarse como dinero negativo. Ahora bien, cuando un perdedor no tiene suficiente dinero para pagar, puede pedir prestada la cantidad necesaria a un depósito o \"reservorio\", y su saldo se vuelve negativo. No se viola la ley de conservación: la suma del dinero positivo del ganador y el dinero negativo del perdedor permanece constante. Cuando un agente con un saldo negativo recibe dinero como ganador, utiliza este dinero para pagar la deuda hasta que su saldo se vuelve positivo. \n",
    "\n",
    "Suponemos, para simplificar, que el \"reservorio\" no cobra intereses por el dinero prestado. Sin embargo, como no es sensato permitir una deuda ilimitada, ponemos un límite $m_d$ a la deuda máxima de un agente: $m_{i} > -m_{d}$. Esta nueva condición a la frontera $P\\left( m < -m_{d} \\right) = 0$ reemplaza a la vieja condición $P\\left( m < 0 \\right) = 0$. De nuevo $P\\left( m \\right)$ está dada por la ley de Boltzmann-Gibbs, \n",
    "\n",
    "$$\n",
    "P\\left( m  \\right) = \\frac{1}{T}\\exp \\left[ -\\left( m+m_d \\right)/T \\right]\n",
    "$$ \n",
    "\n",
    "(así se cumple la condición de normalización $\\int_{-m_d}^{\\infty }P\\left( m  \\right) dm = 1$), pero ahora,\n",
    "\n",
    "$$\n",
    "\\left\\langle m \\right\\rangle = \\int_{-m_d}^{\\infty }m P\\left( m  \\right) dm = T-m_{d}\n",
    "$$\n",
    "\n",
    "por lo que ahora se tiene una temperatura de dinero $T = M/N + m_{d}$ más alta."
   ]
  },
  {
   "cell_type": "markdown",
   "metadata": {},
   "source": [
    "### Descripción del modelo"
   ]
  },
  {
   "cell_type": "markdown",
   "metadata": {},
   "source": [
    "Los agentes económicos interaccionan a pares mediante transacciones monetarias. Solo se puede recibir o dar dinero en las transacciones.\n",
    "\n",
    "Sean $i$ (\"perdedor\") y $j$ (\"ganador\") un par de agentes económicos que interaccionan. Sean $m$ y $m'$ la cantidad de dinero que posee un agente, antes y después de la transacción, la cual se da según\n",
    "\n",
    "$$\n",
    "m_i \\longrightarrow m'_i = m_i - \\Delta m \\\\\n",
    "m_j \\longrightarrow m'_j = m_j + \\Delta m\n",
    "$$\n",
    "\n",
    "donde $\\Delta m$ es el dinero que el \"perdedor\" transfirió al \"ganador\" después de la transacción.\n",
    "\n",
    "Suposiciones y restricciones:\n",
    "\n",
    "* El dinero se conserva, global y localmente, $m_i + m_j = m'_i + m'_j$\n",
    "* El balance de los ganadores no puede ser menor a la deuda máxima, $m_i \\ge -m_{d} \\forall i$\n",
    "* Una transacción se da solamente cuando el agente \"perdedor\" tiene el suficiente dinero para pagar, $m_{i} \\ge \\Delta m - m_{d}$"
   ]
  },
  {
   "cell_type": "markdown",
   "metadata": {},
   "source": [
    "### Cómo se realizan las simulaciones"
   ]
  },
  {
   "cell_type": "markdown",
   "metadata": {},
   "source": [
    "Los pasos para realizar una simulación son los siguientes:\n",
    "* Inicialmente todos los agentes tienen la misma cantidad de dinero.\n",
    "* Se elige un par ($i,j$) de agentes al azar, y se realiza la transacción, es decir, se transfiere la cantidad $\\Delta m$.\n",
    "* Se repite el paso anterior muchas veces.\n",
    "\n",
    "En este trabajo se realizan simulaciones con cada una de las siguientes reglas de intercambio:\n",
    "* Regla 1: Intercambio de una pequeña cantidad constante, $\\Delta m = 1$.\n",
    "* Regla 2: Intercambio de una fracción aleatoria $0 \\le \\nu \\le 1$ del dinero promedio del par, $\\Delta m = \\nu \\left[ \\left( m_i + m_j \\right)/2 + m_d \\right] $\n",
    "* Regla 3: Intercambio de una fracción aleatoria $0 \\le \\nu \\le 1$ del dinero promedio del sistema,  $\\Delta m = \\nu M/N$\n",
    "\n",
    "Nótese que el modelo anterior se generaliza al modelo con deuda si hacemos el cambio de variable $m \\longrightarrow m + m_{d}$."
   ]
  },
  {
   "cell_type": "markdown",
   "metadata": {},
   "source": [
    "Los parámetros para las simulaciones son: $N = 5 \\times 10^{4}$ y $M = 5 \\times 10^{5}$. Por lo tanto, al principio de las simulaciones, los agentes contarán con la misma cantidad de dinero $\\left\\langle m \\right\\rangle = \\frac{M}{N} = 10$.\n",
    "\n",
    "Primero realicemos una simulación para deuda máxima $m_d = 8$. La temperatura de dinero del sistema de agentes sera, por lo tanto, $T = M/N + m_d = 18$."
   ]
  },
  {
   "cell_type": "code",
   "execution_count": 93,
   "metadata": {},
   "outputs": [
    {
     "data": {
      "text/plain": [
       "18"
      ]
     },
     "metadata": {},
     "output_type": "display_data"
    }
   ],
   "source": [
    "# Initial conditions\n",
    "N_exp = 4\n",
    "M_exp = 5\n",
    "T_exp = 5\n",
    "million = 1_000_000\n",
    "N = Int(5 * 10^N_exp)  # numero de agentes   \n",
    "M = Int(5 * 10^M_exp) # Dinero total en el sistema \n",
    "T = Int(4 * 10^T_exp) # tiempo\n",
    "M_avg = Int(M/N) # temperatura del dinero\n",
    "\n",
    "m_d = 8 #deuda maxima\n",
    "\n",
    "M_prom = M_avg + m_d # temperatura del dinero con deuda \n"
   ]
  },
  {
   "cell_type": "code",
   "execution_count": 94,
   "metadata": {},
   "outputs": [],
   "source": [
    "mutable struct Agent_debt\n",
    "  money::Float64\n",
    "  max_debt::Float64\n",
    "end"
   ]
  },
  {
   "cell_type": "code",
   "execution_count": 95,
   "metadata": {},
   "outputs": [
    {
     "data": {
      "text/plain": [
       "Agent_debt(10.0, 8.0)"
      ]
     },
     "metadata": {},
     "output_type": "display_data"
    }
   ],
   "source": [
    "Agent_debt(10, 8)"
   ]
  },
  {
   "cell_type": "code",
   "execution_count": 96,
   "metadata": {},
   "outputs": [
    {
     "data": {
      "text/plain": [
       "sim_05 (generic function with 1 method)"
      ]
     },
     "metadata": {},
     "output_type": "display_data"
    }
   ],
   "source": [
    "function sim_05(N, M, M_avg, m_d, rule, T)\n",
    "\t\n",
    "  Agentes = [Agent_debt(M_avg, m_d) for i in 1:N] # money = M_avg\n",
    "  exchange_rules = [\"small_constant\", \"random_pair_average\", \"random_system_average\"]\n",
    "  transaction_type = exchange_rules[rule]\n",
    "  system_avg = M_avg\n",
    "\n",
    "  for t in 1:T\n",
    "    agent_i = rand(1:N)\n",
    "    agent_j = rand(1:N)\n",
    "\n",
    "    coin_flit = rand(1:2)\n",
    "    loser_index = [agent_i, agent_j][coin_flit]\n",
    "    winner_index = [agent_i, agent_j][2-coin_flit+1]\n",
    "\n",
    "    delta_m = 0.0\n",
    "    \n",
    "    if transaction_type == \"small_constant\"\n",
    "    delta_m += 1.0\n",
    "    elseif transaction_type == \"random_pair_average\"\n",
    "    avg = ( (Agentes[loser_index].money + Agentes[winner_index].money) / 2 ) + Agentes[loser_index].max_debt \n",
    "    delta_m += rand(Uniform()) * avg\n",
    "    elseif transaction_type == \"random_system_average\"\n",
    "    delta_m += rand(Uniform()) * system_avg\n",
    "    elseif transaction_type == \"proportional\"\n",
    "    delta_m += 0.5 * ( lista.money + Agentes[loser_index].max_debt )\n",
    "    end\n",
    "    delta_m\n",
    "\n",
    "    if (Agentes[loser_index].money + Agentes[loser_index].max_debt) >= delta_m\n",
    "      Agentes[loser_index].money -= delta_m\n",
    "      Agentes[winner_index].money += delta_m\n",
    "    end\n",
    "  end\n",
    "\n",
    "  wealth = [0.0 for i in 1:N]\n",
    "  for i in 1:N\n",
    "    wealth[i] = Agentes[i].money\n",
    "  end\n",
    "\n",
    "return wealth\n",
    "end"
   ]
  },
  {
   "cell_type": "code",
   "execution_count": 97,
   "metadata": {},
   "outputs": [
    {
     "ename": "UndefVarError",
     "evalue": "UndefVarError: `Uniform` not defined in `Main`\nSuggestion: check for spelling errors or missing imports.",
     "output_type": "error",
     "traceback": [
      "UndefVarError: `Uniform` not defined in `Main`\n",
      "Suggestion: check for spelling errors or missing imports.\n",
      "\n",
      "Stacktrace:\n",
      " [1] sim_05(N::Int64, M::Int64, M_avg::Int64, m_d::Int64, rule::Int64, T::Int64)\n",
      "   @ Main ~/Documents/Julia Programming Models/Modelado_RAE/Julia/jl_notebook_cell_df34fa98e69747e1a8f8a730347b8e2f_Y126sZmlsZQ==.jl:22\n",
      " [2] top-level scope\n",
      "   @ ~/Documents/Julia Programming Models/Modelado_RAE/Julia/jl_notebook_cell_df34fa98e69747e1a8f8a730347b8e2f_Y130sZmlsZQ==.jl:1"
     ]
    }
   ],
   "source": [
    "sim = sim_05(N, M, M_avg, m_d, 2, T)"
   ]
  },
  {
   "cell_type": "code",
   "execution_count": 98,
   "metadata": {},
   "outputs": [
    {
     "data": {
      "text/plain": [
       "1.703736382327423e-5"
      ]
     },
     "metadata": {},
     "output_type": "display_data"
    }
   ],
   "source": [
    "minimum(sim)"
   ]
  },
  {
   "cell_type": "code",
   "execution_count": 99,
   "metadata": {},
   "outputs": [
    {
     "data": {
      "text/plain": [
       "0"
      ]
     },
     "metadata": {},
     "output_type": "display_data"
    }
   ],
   "source": [
    "Int(floor(minimum(sim)))"
   ]
  },
  {
   "cell_type": "code",
   "execution_count": 100,
   "metadata": {},
   "outputs": [
    {
     "data": {
      "text/plain": [
       "8"
      ]
     },
     "metadata": {},
     "output_type": "display_data"
    }
   ],
   "source": [
    "m_d"
   ]
  },
  {
   "cell_type": "code",
   "execution_count": 101,
   "metadata": {},
   "outputs": [
    {
     "ename": "UndefVarError",
     "evalue": "UndefVarError: `Figure` not defined in `Main`\nSuggestion: check for spelling errors or missing imports.",
     "output_type": "error",
     "traceback": [
      "UndefVarError: `Figure` not defined in `Main`\n",
      "Suggestion: check for spelling errors or missing imports.\n",
      "\n",
      "Stacktrace:\n",
      " [1] top-level scope\n",
      "   @ ~/Documents/Julia Programming Models/Modelado_RAE/Julia/jl_notebook_cell_df34fa98e69747e1a8f8a730347b8e2f_Y134sZmlsZQ==.jl:7"
     ]
    }
   ],
   "source": [
    "max_val_sim = maximum(sim) + m_d\n",
    "max_val_sim_int = Int(floor(max_val_sim) )\n",
    "m_values = range(-m_d, stop = max_val_sim, length=max_val_sim_int)\n",
    "P_values = length(sim) * (1 / (M_prom)) * exp.(-(m_values .+ m_d)/ (M_prom)) \n",
    "\n",
    "# Graph\n",
    "f = Figure(size = (800, 500))\n",
    "ax = Axis(f[1, 1],\n",
    "\ttitle = \"Money Distribution with $(N/million) million agents, $(M/million ) million money, average money $M_prom and $(T/million) million step time\",\n",
    "    xlabel = L\"Money $m$\",\n",
    "    ylabel = L\"\\text{Distribution of Agents}\",\n",
    "    #yscale = log\n",
    "\t)\n",
    "hist!(ax, sim, bins = max_val_sim_int, color = :black, label = L\"Simulation with $m_d = 8$\")\n",
    "lines!(m_values, P_values, color=:red, label = L\"B-G Distribution $P(m)=\\frac{1}{T}e^{-m/T}$\")\n",
    "axislegend(position=:rt)\n",
    "f"
   ]
  },
  {
   "cell_type": "markdown",
   "metadata": {},
   "source": [
    "Luego realicemos una simulación sin deuda, $m_d = 0$, para comparar. La temperatura de dinero del sistema de agentes sera, por lo tanto, $T = M/N + m_d = 10$."
   ]
  },
  {
   "cell_type": "code",
   "execution_count": 102,
   "metadata": {},
   "outputs": [
    {
     "data": {
      "text/plain": [
       "10"
      ]
     },
     "metadata": {},
     "output_type": "display_data"
    }
   ],
   "source": [
    "# Initial conditions\n",
    "N_exp = 4\n",
    "M_exp = 5\n",
    "T_exp = 5\n",
    "million = 1_000_000\n",
    "N = Int(5 * 10^N_exp)  # numero de agentes   \n",
    "M = Int(5 * 10^M_exp) # Dinero total en el sistema \n",
    "T = Int(4 * 10^T_exp) # tiempo\n",
    "M_avg = Int(M/N) # temperatura del dinero\n",
    "\n",
    "m_d = 0 #deuda maxima\n",
    "\n",
    "M_prom = M_avg + m_d # temperatura del dinero con deuda "
   ]
  },
  {
   "cell_type": "code",
   "execution_count": 103,
   "metadata": {},
   "outputs": [
    {
     "ename": "UndefVarError",
     "evalue": "UndefVarError: `Uniform` not defined in `Main`\nSuggestion: check for spelling errors or missing imports.",
     "output_type": "error",
     "traceback": [
      "UndefVarError: `Uniform` not defined in `Main`\n",
      "Suggestion: check for spelling errors or missing imports.\n",
      "\n",
      "Stacktrace:\n",
      " [1] sim_05(N::Int64, M::Int64, M_avg::Int64, m_d::Int64, rule::Int64, T::Int64)\n",
      "   @ Main ~/Documents/Julia Programming Models/Modelado_RAE/Julia/jl_notebook_cell_df34fa98e69747e1a8f8a730347b8e2f_Y126sZmlsZQ==.jl:22\n",
      " [2] top-level scope\n",
      "   @ ~/Documents/Julia Programming Models/Modelado_RAE/Julia/jl_notebook_cell_df34fa98e69747e1a8f8a730347b8e2f_Y140sZmlsZQ==.jl:1"
     ]
    }
   ],
   "source": [
    "sim_2 = sim_05(N, M, M_avg, m_d, 2, T)"
   ]
  },
  {
   "cell_type": "code",
   "execution_count": 104,
   "metadata": {},
   "outputs": [
    {
     "ename": "UndefVarError",
     "evalue": "UndefVarError: `sim_2` not defined in `Main`\nSuggestion: check for spelling errors or missing imports.",
     "output_type": "error",
     "traceback": [
      "UndefVarError: `sim_2` not defined in `Main`\n",
      "Suggestion: check for spelling errors or missing imports.\n",
      "\n",
      "Stacktrace:\n",
      " [1] top-level scope\n",
      "   @ ~/Documents/Julia Programming Models/Modelado_RAE/Julia/jl_notebook_cell_df34fa98e69747e1a8f8a730347b8e2f_Y141sZmlsZQ==.jl:1"
     ]
    }
   ],
   "source": [
    "max_val_sim_2 = maximum(sim_2) + m_d\n",
    "max_val_sim_int_2 = Int(floor(max_val_sim_2))\n",
    "m_values_2 = range(-m_d, stop = max_val_sim_2, length=max_val_sim_int_2)\n",
    "P_values_2 = length(sim) * (1 / (M_prom)) * exp.(-(m_values_2 .+ m_d)/ (M_prom)) \n",
    "\n",
    "# Graph\n",
    "f = Figure(size = (800, 500))\n",
    "ax = Axis(f[1, 1],\n",
    "\ttitle = \"Money Distribution with $(N/million) million agents, $(M/million ) million money, average money $M_prom and $(T/million) million step time\",\n",
    "    xlabel = L\"Money $m$\",\n",
    "    ylabel = L\"\\text{Distribution of Agents}\",\n",
    "    #yscale = log\n",
    "\t)\n",
    "hist!(ax, sim_2, bins = max_val_sim_int_2, color = :black, label = L\"Simulation with $m_d = 0$\")\n",
    "lines!(m_values_2, P_values_2, color=:red, label = L\"B-G Distribution $P(m)=\\frac{1}{T}e^{-m/T}$\")\n",
    "axislegend(position=:rt)\n",
    "f"
   ]
  },
  {
   "cell_type": "markdown",
   "metadata": {},
   "source": [
    "Por último, si comparamos las distribuciones B-G para ambos casos"
   ]
  },
  {
   "cell_type": "code",
   "execution_count": 105,
   "metadata": {},
   "outputs": [
    {
     "ename": "UndefVarError",
     "evalue": "UndefVarError: `Figure` not defined in `Main`\nSuggestion: check for spelling errors or missing imports.",
     "output_type": "error",
     "traceback": [
      "UndefVarError: `Figure` not defined in `Main`\n",
      "Suggestion: check for spelling errors or missing imports.\n",
      "\n",
      "Stacktrace:\n",
      " [1] top-level scope\n",
      "   @ ~/Documents/Julia Programming Models/Modelado_RAE/Julia/jl_notebook_cell_df34fa98e69747e1a8f8a730347b8e2f_Y143sZmlsZQ==.jl:2"
     ]
    }
   ],
   "source": [
    "# Graph\n",
    "f = Figure(size = (800, 500))\n",
    "ax = Axis(f[1, 1],\n",
    "\ttitle = \"Money Distribution with $(N/million) million agents, $(M/million ) million money, average money $M_prom and $(T/million) million step time\",\n",
    "    xlabel = L\"Money $m$\",\n",
    "    ylabel = L\"\\text{Distribution of Agents}\",\n",
    "    #yscale = log\n",
    "\t)\n",
    "lines!(m_values, P_values, color=:blue, label = L\"B-G Distribution $m_d = 8$\")\n",
    "vlines!(-8, color=:gray, linestyle=:dash )\n",
    "lines!(m_values_2, P_values_2, color=:tomato, label = L\"B-G Distribution $m_d = 0$\")\n",
    "vlines!(0, color=:gray, linestyle=:dash )\n",
    "axislegend(position=:rt)\n",
    "f"
   ]
  },
  {
   "cell_type": "markdown",
   "metadata": {},
   "source": [
    "Citando el artículo, \n",
    "\n",
    "> vemos que la temperatura más alta hace que la distribución del dinero sea más amplia, lo que significa que la deuda aumenta la desigualdad entre los agentes.\n",
    "\n",
    "Para probar o refutar este enunciado, vamos a calcular el coeficiente Gini, es decir, el grado de desigualdad presente en la distribución de dinero B-G con deuda.\n",
    "\n",
    "El coeficiente Gini de una distribución $P\\left( m \\right)$ se define en referencia a la curva de Lorentz, la cual se define como\n",
    "\n",
    "$$\n",
    "L\\left( F\\left( m \\right) \\right) = \\frac{1}{\\left\\langle m \\right\\rangle}\\int_{m_{min}}^{m}m'P\\left( m' \\right)dm'\n",
    "$$\n",
    "\n",
    "donde $F\\left( m \\right) = \\int_{m_{min}}^{m}P\\left( m' \\right)dm'$ es la distribución acumulada de $P\\left( m \\right)$ y $\\left\\langle m \\right\\rangle = \\int_{m_{min}}^{\\infty} m' P\\left( m' \\right)dm'$ es la media de $P\\left( m \\right)$. Intuitivamente, esta integral representa la parte de algún activo que está en manos de la parte $100F$% inferior de la población. El coeficiente de Gini se obtiene entonces mediante el doble de la diferencia entre el área bajo la curva de Lorenz de una distribución perfectamente igualitaria (una línea recta con una pendiente de 1) y la curva de Lorenz de la distribución en cuestión,\n",
    "\n",
    "$$\n",
    "G = 1-2\\int_{0}^{1}L\\left( F \\right)dF\n",
    "$$\n",
    "\n",
    "En el caso particular de la distribución B-G con deuda tenemos que $m_{min} = -m_{d}$, por lo que $F\\left( m \\right) = \\int_{-m_{d}}^{m}\\frac{1}{T}\\exp \\left[ -\\left( m'+m_d \\right)/T \\right]dm' = 1 - \\exp\\left( -\\frac{m+m_d}{T} \\right) = 1 - \\exp\\left( -\\frac{m+m_d}{\\left\\langle m \\right\\rangle+m_d} \\right)$, y \n",
    "\n",
    "$$\n",
    "L = \\frac{1}{\\left\\langle m \\right\\rangle}\\int_{-m_d}^{m}m'\\frac{1}{T}\\exp \\left[ -\\left( m'+m_{d} \\right)/T \\right]dm' = \\frac{\\left\\langle m \\right\\rangle-\\left( m + T \\right)\\exp \\left[ -\\left( m+m_{d} \\right)/T \\right]}{\\left\\langle m \\right\\rangle} \\\\\n",
    "= \\frac{\\left\\langle m \\right\\rangle-\\left( m+T \\right)\\left( 1-F \\right)}{\\left\\langle m \\right\\rangle} = \\frac{\\left\\langle m \\right\\rangle- \\left[ T \\ln \\frac{1}{1-F}-m_{d}+T \\right] \\left( 1-F \\right)}{\\left\\langle m \\right\\rangle} \\\\\n",
    "= \\frac{\\left\\langle m \\right\\rangle - \\left[ T \\ln \\frac{1}{1-F} + \\left\\langle m \\right\\rangle \\right] \\left( 1-F \\right)}{\\left\\langle m \\right\\rangle} = 1 - \\left( 1-F \\right)\\left( 1+ \\frac{\\left\\langle m \\right\\rangle + m_d}{\\left\\langle m \\right\\rangle} \\ln \\frac{1}{1-F} \\right)\n",
    "$$\n",
    "\n",
    "Grafiquemos la curvas de Lorentz correspondientes a las simulaciones,"
   ]
  },
  {
   "cell_type": "code",
   "execution_count": 106,
   "metadata": {},
   "outputs": [
    {
     "ename": "Base.Meta.ParseError",
     "evalue": "ParseError:\n# Error @ /Users/ernesxavier/Documents/Julia Programming Models/Modelado_RAE/Julia/jl_notebook_cell_df34fa98e69747e1a8f8a730347b8e2f_Y153sZmlsZQ==.jl:5:23\nL_a = log.(1 ./ (1 .- space))\nL_a = L_a .* (M_avg + ) \n#                     ╙ ── unexpected `)`",
     "output_type": "error",
     "traceback": [
      "ParseError:\n",
      "# Error @ /Users/ernesxavier/Documents/Julia Programming Models/Modelado_RAE/Julia/jl_notebook_cell_df34fa98e69747e1a8f8a730347b8e2f_Y153sZmlsZQ==.jl:5:23\n",
      "L_a = log.(1 ./ (1 .- space))\n",
      "L_a = L_a .* (M_avg + ) \n",
      "#                     ╙ ── unexpected `)`\n",
      "\n",
      "Stacktrace:\n",
      " [1] top-level scope\n",
      "   @ ~/Documents/Julia Programming Models/Modelado_RAE/Julia/jl_notebook_cell_df34fa98e69747e1a8f8a730347b8e2f_Y153sZmlsZQ==.jl:5"
     ]
    }
   ],
   "source": [
    "M_avg\n",
    "\n",
    "space = range(0.0, stop= 1, step=50)\n",
    "L_a = log.(1 ./ (1 .- space))\n",
    "L_a = L_a .* (M_avg + ) "
   ]
  },
  {
   "cell_type": "markdown",
   "metadata": {},
   "source": [
    "# Modelo más realista "
   ]
  },
  {
   "cell_type": "markdown",
   "metadata": {},
   "source": [
    "### Descripción del modelo"
   ]
  },
  {
   "cell_type": "markdown",
   "metadata": {},
   "source": [
    "Para que el modelo sea un poco más realista, introducimos empresas. Un agente a la vez se convierte en una empresa. La empresa toma prestado capital $K$ de otro agente y lo devuelve con un interés $rK$, contrata $L$ agentes y les paga un salario $W$, fabrica $q$ artículos de un producto y los vende a $q$ agentes a un precio $p$. Todos estos agentes son seleccionados aleatoriamente. La empresa recibe la ganancia\n",
    "$$\n",
    "\\pi = pq - LW - rK\n",
    "$$\n",
    "\n",
    "El resultado neto es un intercambio de dinero entre muchos cuerpos que aún satisface la ley de conservación."
   ]
  },
  {
   "cell_type": "markdown",
   "metadata": {},
   "source": [
    "Los parámetros del modelo que maximizan la ganancia se obtienen de la siguiente forma:\n",
    "\n",
    "1) Se establece la curva de oferta-demanda agregada, $p\\left( q \\right) = V/q^{\\eta}$, donde $q$ es la cantidad de productos que la gente compraría a un precio $p$. $V = 100$ y $\\eta = 1/2$ son constantes.\n",
    "2) Se establece la función de producción de la firma, $Q\\left( L,K \\right) = L^{\\beta}K^{1-\\beta}$, con $\\beta = 8/10$.\n",
    "3) Se sustituyen las expresiones de los pasos anteriores en la ecuación de la ganacia, y se obtiene la ecuación $F\\left( L,K \\right) = V Q^{1-\\eta} - LW - rK = V \\left(L^{\\beta}K^{1-\\beta}\\right)^{1-\\eta} - LW - rK$\n",
    "4) Se resuelve $\\nabla F\\left( L,K \\right) = 0$ para maximizar la ganancia. La solución es \n",
    "$$\n",
    "L_{critico} = \\left( \\frac{V \\beta\\left( 1-\\eta \\right)}{W} \\right)^{1/\\eta}\\left( \\frac{W \\left( 1-\\beta \\right)}{r\\beta} \\right)^{\\left(1-\\beta\\right)\\left(1-\\eta\\right)/\\eta}\\\\\n",
    "K_{critico} = \\frac{1-\\beta}{\\beta}\\cdot\\frac{W}{r}L_{critico}\n",
    "$$\n",
    "\n",
    "Una vez se establecen los valores de los parámetros $W$ y $r$, se pueden encontrar los valores de $L_{critico}$, $K_{critico}$, $Q_{c} = Q \\left( L_{critico},K_{critico}  \\right)$, $R_{c} = R \\left( Q_c \\right)$ y $F_{max}$, en ese orden. Por ejemplo, si $W = 10$ y $r=0.15$, entonces\n",
    "$$\n",
    "L_{critico} = \\simeq 28\\\\\n",
    "K_{critico} = 468.1\\\\\n",
    "Q_{c} \\simeq 49\\\\\n",
    "R_{c} = 14.242\\\\\n",
    "F_{max} = 351.075\n",
    "$$\n",
    "\n",
    "Es decir, con aquellos valores de salario y tasa de interés, la empresa obtendrá una ganancia máxima de 351.1$ si contrata a 28 trabajadores, toma prestado 468.1$ de capital, fabrica 49 artículos de su producto y los vende a 14.2$ cada uno."
   ]
  },
  {
   "cell_type": "code",
   "execution_count": 107,
   "metadata": {},
   "outputs": [],
   "source": []
  }
 ],
 "metadata": {
  "kernelspec": {
   "display_name": "Julia 1.11.0",
   "language": "julia",
   "name": "julia-1.11"
  },
  "language_info": {
   "file_extension": ".jl",
   "mimetype": "application/julia",
   "name": "julia",
   "version": "1.11.0"
  }
 },
 "nbformat": 4,
 "nbformat_minor": 2
}
