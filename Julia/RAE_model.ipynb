{
 "cells": [
  {
   "cell_type": "markdown",
   "metadata": {},
   "source": [
    "# Modelo de Intercambio Aleatorio de Activos (RAE)"
   ]
  },
  {
   "cell_type": "markdown",
   "metadata": {},
   "source": [
    "## Sistema económico cerrado con conservación de dinero\n",
    "\n",
    "El modelo utilizado es el de [Dragulescu & Yakovenko (2000)](https://doi.org/10.1007/s100510070114)"
   ]
  },
  {
   "cell_type": "markdown",
   "metadata": {},
   "source": [
    "### Descripción del modelo"
   ]
  },
  {
   "cell_type": "markdown",
   "metadata": {},
   "source": [
    "Los agentes económicos interaccionan por pares mediante transacciones monetarias. \n",
    "\n",
    "Solo se puede dar o recibir dinero en las transacciones.\n",
    "\n",
    "Los agentes perdedores se etiquetan con el indice $i$ mientras que los ganadores con el indice $j$.\n",
    "\n",
    "Sean $m$ y $m'$ la cantidad de dinero que posee un agente, antes y después de la transacción la cual se da según:\n",
    "\n",
    "$$ m_i \\rightarrow m'_i = m_i - \\Delta m$$\n",
    "$$ m_j \\rightarrow m'_j = m_j + \\Delta m$$\n",
    "\n",
    "donde $\\Delta m$ es la cantidad de dinero que el agente perdedor le transfirió al agente ganador después de la transacción.\n"
   ]
  },
  {
   "cell_type": "markdown",
   "metadata": {},
   "source": [
    "Algunos supuestos:\n",
    "- El dinero se conserva, global y localmente, $m_i + m_j = m'_i + m'_j $.\n",
    "- El balance de los ganadores no puede ser negativo, $m_j  \\ge 0 \\ \\forall j $.\n",
    "- Una transacción se da solamente cuando el agente \"perdedor\" tiene suficiente dinero para pagar, $m_i  \\ge \\Delta m$.\n",
    "- No hay crédito ni deuda.\n"
   ]
  },
  {
   "cell_type": "markdown",
   "metadata": {},
   "source": [
    "La mecánica estadística predice que el sistema económico alcanzara la distribución estacionaria de Boltzmann-Gibbs,\n",
    "\n",
    "$$ P(m) = \\frac{1}{T} e^{-m/T} $$\n",
    "\n",
    "donde \n",
    "\n",
    "$$ T = \\langle m \\rangle = \\frac{M}{N} $$\n",
    "\n",
    "es la _\"Temperatura del dinero\"_, y es igual a la cantidad promedio de dinero. $M$ es la cantidad total de dinero en el sistema, y $N$ es el numero total de agentes en el sistema. \n"
   ]
  },
  {
   "cell_type": "markdown",
   "metadata": {},
   "source": [
    "## Cómo se realizan las simulaciones"
   ]
  },
  {
   "cell_type": "markdown",
   "metadata": {},
   "source": [
    "Las simulaciones se realizan en el siguiente orden:\n",
    "\n",
    "- Inicialmente todos los agentes tienen la misma cantidad de dinero.\n",
    "- Se elige un par $(i, j)$ de agentes al azar, y e realiza la transacción, es decir, se transfiere la cantidad $\\Delta m$.\n",
    "- Se repite el paso anterior varias veces.\n",
    "\n"
   ]
  },
  {
   "cell_type": "markdown",
   "metadata": {},
   "source": [
    "En este trabajo se realizan las simulaciones con cada una de las siguientes reglas de intercambio:\n",
    "\n",
    "- **Regla 1**: Intercambio de una pequeña cantidad constante de dinero, $\\Delta m = 1$.\n",
    "- **Regla 2**: Intercambio de una fracción aleatoria $0 \\le \\nu \\le 1$ del dinero promedio del par, $\\Delta m = \\nu \\left( m_i + m_j \\right)/2$\n",
    "- **Regla 3**: Intercambio de una fracción aleatoria $0 \\le \\nu \\le 1$ del dinero promedio del sistema,  $\\Delta m = \\nu T$\n",
    "\n",
    "Observese que estas reglas tienen simetría de inversión temporal, ya que son invariantes ante una permutación de los índices $i$ y $j$."
   ]
  },
  {
   "cell_type": "markdown",
   "metadata": {},
   "source": [
    "## Paquetes a utilizar "
   ]
  },
  {
   "cell_type": "code",
   "execution_count": 1,
   "metadata": {},
   "outputs": [],
   "source": [
    "using Random, Distributions, CairoMakie, LaTeXStrings"
   ]
  },
  {
   "cell_type": "markdown",
   "metadata": {},
   "source": [
    "### Condiciones iniciales\n",
    "\n",
    "Los parámetros para las simulaciones son: $N = 5 \\times 10^{5}$ y $M = 5 \\times 10^{6}$. Por lo tanto, al principio de las simulaciones, los agentes contarán con la misma cantidad de dinero $\\left\\langle m \\right\\rangle = \\frac{M}{N} = 10$."
   ]
  },
  {
   "cell_type": "code",
   "execution_count": 2,
   "metadata": {},
   "outputs": [
    {
     "data": {
      "text/plain": [
       "10.0"
      ]
     },
     "metadata": {},
     "output_type": "display_data"
    }
   ],
   "source": [
    "N_exp = 5\n",
    "N = 5 * 10^N_exp     \n",
    "\n",
    "M_exp = 6\n",
    "M = 5 * 10^M_exp\n",
    "\n",
    "T = M/N "
   ]
  },
  {
   "cell_type": "markdown",
   "metadata": {},
   "source": [
    "#### Reglas de intercambio "
   ]
  },
  {
   "cell_type": "code",
   "execution_count": 3,
   "metadata": {},
   "outputs": [
    {
     "data": {
      "text/plain": [
       "3-element Vector{String}:\n",
       " \"small_constant\"\n",
       " \"random_pair_average\"\n",
       " \"random_system_average\""
      ]
     },
     "metadata": {},
     "output_type": "display_data"
    }
   ],
   "source": [
    "exchange_rules = [\"small_constant\", \"random_pair_average\", \"random_system_average\"]"
   ]
  },
  {
   "cell_type": "code",
   "execution_count": 4,
   "metadata": {},
   "outputs": [],
   "source": [
    "mutable struct Agent\n",
    "  money::Float64\n",
    "end"
   ]
  },
  {
   "cell_type": "code",
   "execution_count": 18,
   "metadata": {},
   "outputs": [
    {
     "data": {
      "text/plain": [
       "Agent(3.0)"
      ]
     },
     "metadata": {},
     "output_type": "display_data"
    }
   ],
   "source": [
    "p = Agent(3)"
   ]
  },
  {
   "cell_type": "code",
   "execution_count": 19,
   "metadata": {},
   "outputs": [
    {
     "data": {
      "text/plain": [
       "3.0"
      ]
     },
     "metadata": {},
     "output_type": "display_data"
    }
   ],
   "source": [
    "p.money"
   ]
  },
  {
   "cell_type": "code",
   "execution_count": null,
   "metadata": {},
   "outputs": [],
   "source": []
  }
 ],
 "metadata": {
  "kernelspec": {
   "display_name": "Julia 1.10.5",
   "language": "julia",
   "name": "julia-1.10"
  },
  "language_info": {
   "file_extension": ".jl",
   "mimetype": "application/julia",
   "name": "julia",
   "version": "1.10.5"
  }
 },
 "nbformat": 4,
 "nbformat_minor": 2
}
