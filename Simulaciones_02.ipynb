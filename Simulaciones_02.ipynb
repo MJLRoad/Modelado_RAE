{
 "cells": [
  {
   "cell_type": "markdown",
   "metadata": {},
   "source": [
    "# Ingresos individuales y familiares no estacionarios de clases pobres, ricas y medias en México"
   ]
  },
  {
   "cell_type": "markdown",
   "metadata": {},
   "source": [
    "En este trabajo se exponen los puntos principales de [este artículo](http://dx.doi.org/10.1016/j.physa.2016.08.042), donde se pretende investigar una economía emergente que sea menos estable que las economías desarrolladas, sobre todo en tiempos de crisis, como lo fue la economía mexicana cuando se produjo una fuerte depreciación de la moneda a finales de 1994, seguida de una grave recesión económica. En el artículo se analiza la información estadística sobre la distribución de ingreso de la población en México para el período 1992 - 2008."
   ]
  },
  {
   "cell_type": "markdown",
   "metadata": {},
   "source": [
    "## Introducción"
   ]
  },
  {
   "cell_type": "markdown",
   "metadata": {},
   "source": [
    "La desigualdad en sistemas sociales ha sido un fenómeno universal y robusto, no limitado ni por el tiempo ni por la geografía. Tiene unas cuantas regularidades estadísticas, como es el caso de las distribuciones de riqueza e ingreso en un amplio rango de sociedades y períodos temporales."
   ]
  },
  {
   "cell_type": "markdown",
   "metadata": {},
   "source": [
    "En general, se cree que la parte superior (los más ricos) de las distribuciones de ingreso y riqueza está descrita por una ley de potencia (**distribución de Pareto**)."
   ]
  },
  {
   "cell_type": "markdown",
   "metadata": {},
   "source": [
    "[Los análisis de datos de la distribución de ingreso en los EEUU](https://iopscience.iop.org/article/10.1209/epl/i2004-10330-3) revelan la coexistencia de dos clases sociales:\n",
    "\n",
    "* Clase baja\n",
    "  * Es la más grande de las dos clases\n",
    "  * Está caracterizada por la **distribución B-G**, la cual es muy estable en el tiempo para todos los años\n",
    "* Clase alta\n",
    "  * Es muy pequeña\n",
    "  * Exhibe la distribución de Pareto, la cual es muy volátil\n",
    "\n",
    "Los autores afirman que la conservación local de dinero da lugar a una distribución B-G robusta en la gran clase baja de los EEUU. <font color=\"red\">Aunque esta conservación es solo una aproximación</font>, la analogía B-G trabaja muy bien en la región de bajos ingresos, ya que todas las distribuciones anuales colapsan en una sola curva después de ser ajustadas a la inflación."
   ]
  },
  {
   "cell_type": "markdown",
   "metadata": {},
   "source": [
    "Los autores de [este libro](https://books.google.com.mx/books?hl=es&lr=&id=LWAgAwAAQBAJ&oi=fnd&pg=PR7&ots=ICnTju-PGM&sig=_x2mx39oB1boC26k5mKXBqTPW5M&redir_esc=y#v=onepage&q&f=false) extendieron el modelo utilizado en el trabajo anterior para imponer restricciones en las reglas de intercambio que tomen en cuenta los ahorros de los agentes. Dentro de este contexto, la **distribución Gamma** es un buen ajuste para un ABM con un factor constante de ahorro fraccionario. Dicha distribución Gamma también aparece en [un modelo de maximización de utilidad](https://doi.org/10.1016/j.physa.2009.06.038) como parte de un modelo de intercambio estándar que emplea la función de utilidad de Cobb-Douglas."
   ]
  },
  {
   "cell_type": "markdown",
   "metadata": {},
   "source": [
    "En general, como se menciona en [este libro](https://books.google.com.mx/books?hl=es&lr=&id=LWAgAwAAQBAJ&oi=fnd&pg=PR7&ots=ICnTju-PGM&sig=_x2mx39oB1boC26k5mKXBqTPW5M&redir_esc=y#v=onepage&q&f=false), la mayor parte del rango bajo de la distribución -tanto de ingreso como de riqueza- en muchas sociedades parece estar bien ajustada tanto por la distribución Gamma como por la **distribución log-normal**. En ambas distribuciones, el término exponencial domina para valores grandes de dinero."
   ]
  },
  {
   "cell_type": "markdown",
   "metadata": {},
   "source": [
    "[Un importante estudio reciente](https://link.springer.com/article/10.1140/epjb/e2014-50501-x) sobre la distribución de ingreso en los EEUU afirma que el ajuste de las mezclas B-G y Pareto se puede mejorar aun más agregando un componente log-normal."
   ]
  },
  {
   "cell_type": "markdown",
   "metadata": {},
   "source": [
    "## Distribuciones de Pareto y de tipo exponencial (log-normal y Gamma)"
   ]
  },
  {
   "cell_type": "markdown",
   "metadata": {},
   "source": []
  }
 ],
 "metadata": {
  "language_info": {
   "name": "python"
  }
 },
 "nbformat": 4,
 "nbformat_minor": 2
}
